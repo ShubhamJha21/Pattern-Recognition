{
 "cells": [
  {
   "cell_type": "code",
   "execution_count": 1,
   "metadata": {},
   "outputs": [],
   "source": [
    "# Import libraries\n",
    "import pandas as pd\n",
    "import matplotlib.pyplot as plt\n",
    "import numpy as np"
   ]
  },
  {
   "cell_type": "code",
   "execution_count": 2,
   "metadata": {},
   "outputs": [
    {
     "data": {
      "text/html": [
       "<div>\n",
       "<style scoped>\n",
       "    .dataframe tbody tr th:only-of-type {\n",
       "        vertical-align: middle;\n",
       "    }\n",
       "\n",
       "    .dataframe tbody tr th {\n",
       "        vertical-align: top;\n",
       "    }\n",
       "\n",
       "    .dataframe thead th {\n",
       "        text-align: right;\n",
       "    }\n",
       "</style>\n",
       "<table border=\"1\" class=\"dataframe\">\n",
       "  <thead>\n",
       "    <tr style=\"text-align: right;\">\n",
       "      <th></th>\n",
       "      <th>Unnamed: 0</th>\n",
       "      <th>Frequency</th>\n",
       "      <th>TotalPf</th>\n",
       "      <th>b_phase_current</th>\n",
       "      <th>b_phase_pf</th>\n",
       "      <th>b_phase_voltage</th>\n",
       "      <th>lag_only_reactive_energy</th>\n",
       "      <th>lead_only_reactive_energy</th>\n",
       "      <th>r_phase_current</th>\n",
       "      <th>r_phase_pf</th>\n",
       "      <th>...</th>\n",
       "      <th>meter serial_no</th>\n",
       "      <th>timestamp</th>\n",
       "      <th>total_active_power</th>\n",
       "      <th>total_apparent_energy</th>\n",
       "      <th>total_apparent_power</th>\n",
       "      <th>total_reactive_power</th>\n",
       "      <th>total_real_energy</th>\n",
       "      <th>y_phase_current</th>\n",
       "      <th>y_phase_pf</th>\n",
       "      <th>y_phase_voltage</th>\n",
       "    </tr>\n",
       "  </thead>\n",
       "  <tbody>\n",
       "    <tr>\n",
       "      <th>0</th>\n",
       "      <td>0</td>\n",
       "      <td>50.10</td>\n",
       "      <td>0.9033</td>\n",
       "      <td>12.540</td>\n",
       "      <td>0.9000</td>\n",
       "      <td>245.733</td>\n",
       "      <td>1291.68</td>\n",
       "      <td>63.95</td>\n",
       "      <td>0.580</td>\n",
       "      <td>1.0000</td>\n",
       "      <td>...</td>\n",
       "      <td>600002</td>\n",
       "      <td>01-10-2018 00:00</td>\n",
       "      <td>3066.28</td>\n",
       "      <td>7941.59</td>\n",
       "      <td>3356.64</td>\n",
       "      <td>1366.930</td>\n",
       "      <td>7578.66</td>\n",
       "      <td>0.46</td>\n",
       "      <td>0.8900</td>\n",
       "      <td>245.204</td>\n",
       "    </tr>\n",
       "    <tr>\n",
       "      <th>1</th>\n",
       "      <td>1</td>\n",
       "      <td>50.10</td>\n",
       "      <td>0.9016</td>\n",
       "      <td>12.565</td>\n",
       "      <td>0.9000</td>\n",
       "      <td>245.784</td>\n",
       "      <td>1291.69</td>\n",
       "      <td>63.95</td>\n",
       "      <td>0.580</td>\n",
       "      <td>1.0000</td>\n",
       "      <td>...</td>\n",
       "      <td>600002</td>\n",
       "      <td>01-10-2018 00:00</td>\n",
       "      <td>3075.12</td>\n",
       "      <td>7941.62</td>\n",
       "      <td>3365.50</td>\n",
       "      <td>1368.750</td>\n",
       "      <td>7578.69</td>\n",
       "      <td>0.46</td>\n",
       "      <td>0.8890</td>\n",
       "      <td>245.265</td>\n",
       "    </tr>\n",
       "    <tr>\n",
       "      <th>2</th>\n",
       "      <td>2</td>\n",
       "      <td>50.10</td>\n",
       "      <td>0.9257</td>\n",
       "      <td>12.616</td>\n",
       "      <td>0.8963</td>\n",
       "      <td>246.290</td>\n",
       "      <td>1291.70</td>\n",
       "      <td>63.95</td>\n",
       "      <td>6.731</td>\n",
       "      <td>0.9902</td>\n",
       "      <td>...</td>\n",
       "      <td>600002</td>\n",
       "      <td>01-10-2018 00:01</td>\n",
       "      <td>4608.20</td>\n",
       "      <td>7941.66</td>\n",
       "      <td>4840.40</td>\n",
       "      <td>1461.130</td>\n",
       "      <td>7578.72</td>\n",
       "      <td>0.46</td>\n",
       "      <td>0.8891</td>\n",
       "      <td>245.536</td>\n",
       "    </tr>\n",
       "    <tr>\n",
       "      <th>3</th>\n",
       "      <td>3</td>\n",
       "      <td>50.10</td>\n",
       "      <td>0.9300</td>\n",
       "      <td>12.616</td>\n",
       "      <td>0.8972</td>\n",
       "      <td>246.411</td>\n",
       "      <td>1291.71</td>\n",
       "      <td>63.95</td>\n",
       "      <td>7.251</td>\n",
       "      <td>1.0000</td>\n",
       "      <td>...</td>\n",
       "      <td>600002</td>\n",
       "      <td>01-10-2018 00:01</td>\n",
       "      <td>4766.26</td>\n",
       "      <td>7941.70</td>\n",
       "      <td>4969.53</td>\n",
       "      <td>1408.130</td>\n",
       "      <td>7578.76</td>\n",
       "      <td>0.46</td>\n",
       "      <td>0.8876</td>\n",
       "      <td>245.096</td>\n",
       "    </tr>\n",
       "    <tr>\n",
       "      <th>4</th>\n",
       "      <td>4</td>\n",
       "      <td>50.10</td>\n",
       "      <td>0.9300</td>\n",
       "      <td>12.610</td>\n",
       "      <td>0.8955</td>\n",
       "      <td>246.489</td>\n",
       "      <td>1291.72</td>\n",
       "      <td>63.95</td>\n",
       "      <td>7.173</td>\n",
       "      <td>1.0000</td>\n",
       "      <td>...</td>\n",
       "      <td>600002</td>\n",
       "      <td>01-10-2018 00:02</td>\n",
       "      <td>4745.28</td>\n",
       "      <td>7941.74</td>\n",
       "      <td>4949.64</td>\n",
       "      <td>1409.430</td>\n",
       "      <td>7578.80</td>\n",
       "      <td>0.46</td>\n",
       "      <td>0.8892</td>\n",
       "      <td>244.900</td>\n",
       "    </tr>\n",
       "    <tr>\n",
       "      <th>5</th>\n",
       "      <td>5</td>\n",
       "      <td>50.10</td>\n",
       "      <td>0.9605</td>\n",
       "      <td>6.391</td>\n",
       "      <td>0.9424</td>\n",
       "      <td>248.556</td>\n",
       "      <td>1291.73</td>\n",
       "      <td>63.95</td>\n",
       "      <td>7.230</td>\n",
       "      <td>1.0000</td>\n",
       "      <td>...</td>\n",
       "      <td>600002</td>\n",
       "      <td>01-10-2018 00:02</td>\n",
       "      <td>3491.86</td>\n",
       "      <td>7941.78</td>\n",
       "      <td>3593.73</td>\n",
       "      <td>730.463</td>\n",
       "      <td>7578.83</td>\n",
       "      <td>0.46</td>\n",
       "      <td>0.8884</td>\n",
       "      <td>244.857</td>\n",
       "    </tr>\n",
       "    <tr>\n",
       "      <th>6</th>\n",
       "      <td>6</td>\n",
       "      <td>50.10</td>\n",
       "      <td>0.9900</td>\n",
       "      <td>1.320</td>\n",
       "      <td>1.0000</td>\n",
       "      <td>249.765</td>\n",
       "      <td>1291.73</td>\n",
       "      <td>63.95</td>\n",
       "      <td>7.267</td>\n",
       "      <td>1.0000</td>\n",
       "      <td>...</td>\n",
       "      <td>600002</td>\n",
       "      <td>01-10-2018 00:03</td>\n",
       "      <td>2287.66</td>\n",
       "      <td>7941.80</td>\n",
       "      <td>2287.66</td>\n",
       "      <td>50.998</td>\n",
       "      <td>7578.85</td>\n",
       "      <td>0.46</td>\n",
       "      <td>0.8881</td>\n",
       "      <td>244.906</td>\n",
       "    </tr>\n",
       "    <tr>\n",
       "      <th>7</th>\n",
       "      <td>7</td>\n",
       "      <td>50.01</td>\n",
       "      <td>0.9900</td>\n",
       "      <td>1.320</td>\n",
       "      <td>1.0000</td>\n",
       "      <td>249.796</td>\n",
       "      <td>1291.73</td>\n",
       "      <td>63.95</td>\n",
       "      <td>7.305</td>\n",
       "      <td>1.0000</td>\n",
       "      <td>...</td>\n",
       "      <td>600002</td>\n",
       "      <td>01-10-2018 00:03</td>\n",
       "      <td>2290.66</td>\n",
       "      <td>7941.82</td>\n",
       "      <td>2290.66</td>\n",
       "      <td>50.462</td>\n",
       "      <td>7578.87</td>\n",
       "      <td>0.46</td>\n",
       "      <td>0.8889</td>\n",
       "      <td>244.850</td>\n",
       "    </tr>\n",
       "    <tr>\n",
       "      <th>8</th>\n",
       "      <td>8</td>\n",
       "      <td>50.10</td>\n",
       "      <td>0.9900</td>\n",
       "      <td>1.320</td>\n",
       "      <td>1.0000</td>\n",
       "      <td>249.969</td>\n",
       "      <td>1291.73</td>\n",
       "      <td>63.95</td>\n",
       "      <td>7.297</td>\n",
       "      <td>1.0000</td>\n",
       "      <td>...</td>\n",
       "      <td>600002</td>\n",
       "      <td>01-10-2018 00:04</td>\n",
       "      <td>2288.64</td>\n",
       "      <td>7941.84</td>\n",
       "      <td>2288.64</td>\n",
       "      <td>50.569</td>\n",
       "      <td>7578.89</td>\n",
       "      <td>0.46</td>\n",
       "      <td>0.8900</td>\n",
       "      <td>244.982</td>\n",
       "    </tr>\n",
       "    <tr>\n",
       "      <th>9</th>\n",
       "      <td>9</td>\n",
       "      <td>50.09</td>\n",
       "      <td>0.9900</td>\n",
       "      <td>1.320</td>\n",
       "      <td>1.0000</td>\n",
       "      <td>250.305</td>\n",
       "      <td>1291.73</td>\n",
       "      <td>63.95</td>\n",
       "      <td>7.310</td>\n",
       "      <td>1.0000</td>\n",
       "      <td>...</td>\n",
       "      <td>600002</td>\n",
       "      <td>01-10-2018 00:04</td>\n",
       "      <td>2293.35</td>\n",
       "      <td>7941.85</td>\n",
       "      <td>2293.35</td>\n",
       "      <td>50.425</td>\n",
       "      <td>7578.91</td>\n",
       "      <td>0.46</td>\n",
       "      <td>0.8900</td>\n",
       "      <td>244.939</td>\n",
       "    </tr>\n",
       "    <tr>\n",
       "      <th>10</th>\n",
       "      <td>10</td>\n",
       "      <td>50.00</td>\n",
       "      <td>0.9900</td>\n",
       "      <td>1.320</td>\n",
       "      <td>1.0000</td>\n",
       "      <td>250.376</td>\n",
       "      <td>1291.73</td>\n",
       "      <td>63.95</td>\n",
       "      <td>7.313</td>\n",
       "      <td>1.0000</td>\n",
       "      <td>...</td>\n",
       "      <td>600002</td>\n",
       "      <td>01-10-2018 00:05</td>\n",
       "      <td>2293.85</td>\n",
       "      <td>7941.87</td>\n",
       "      <td>2293.85</td>\n",
       "      <td>50.495</td>\n",
       "      <td>7578.93</td>\n",
       "      <td>0.46</td>\n",
       "      <td>0.8900</td>\n",
       "      <td>244.718</td>\n",
       "    </tr>\n",
       "    <tr>\n",
       "      <th>11</th>\n",
       "      <td>11</td>\n",
       "      <td>50.00</td>\n",
       "      <td>0.9900</td>\n",
       "      <td>1.314</td>\n",
       "      <td>1.0000</td>\n",
       "      <td>250.363</td>\n",
       "      <td>1291.73</td>\n",
       "      <td>63.95</td>\n",
       "      <td>7.302</td>\n",
       "      <td>1.0000</td>\n",
       "      <td>...</td>\n",
       "      <td>600002</td>\n",
       "      <td>01-10-2018 00:05</td>\n",
       "      <td>2289.40</td>\n",
       "      <td>7941.89</td>\n",
       "      <td>2289.40</td>\n",
       "      <td>50.464</td>\n",
       "      <td>7578.95</td>\n",
       "      <td>0.46</td>\n",
       "      <td>0.8886</td>\n",
       "      <td>244.750</td>\n",
       "    </tr>\n",
       "    <tr>\n",
       "      <th>12</th>\n",
       "      <td>12</td>\n",
       "      <td>50.00</td>\n",
       "      <td>0.9900</td>\n",
       "      <td>1.323</td>\n",
       "      <td>1.0000</td>\n",
       "      <td>250.133</td>\n",
       "      <td>1291.73</td>\n",
       "      <td>63.95</td>\n",
       "      <td>7.270</td>\n",
       "      <td>1.0000</td>\n",
       "      <td>...</td>\n",
       "      <td>600002</td>\n",
       "      <td>01-10-2018 00:06</td>\n",
       "      <td>2287.35</td>\n",
       "      <td>7941.91</td>\n",
       "      <td>2287.35</td>\n",
       "      <td>51.783</td>\n",
       "      <td>7578.97</td>\n",
       "      <td>0.46</td>\n",
       "      <td>0.8861</td>\n",
       "      <td>245.461</td>\n",
       "    </tr>\n",
       "    <tr>\n",
       "      <th>13</th>\n",
       "      <td>13</td>\n",
       "      <td>50.00</td>\n",
       "      <td>0.9645</td>\n",
       "      <td>6.051</td>\n",
       "      <td>0.9558</td>\n",
       "      <td>248.269</td>\n",
       "      <td>1291.74</td>\n",
       "      <td>63.95</td>\n",
       "      <td>7.152</td>\n",
       "      <td>1.0000</td>\n",
       "      <td>...</td>\n",
       "      <td>600002</td>\n",
       "      <td>01-10-2018 00:06</td>\n",
       "      <td>3290.33</td>\n",
       "      <td>7941.94</td>\n",
       "      <td>3378.33</td>\n",
       "      <td>613.196</td>\n",
       "      <td>7578.99</td>\n",
       "      <td>0.46</td>\n",
       "      <td>0.8856</td>\n",
       "      <td>245.317</td>\n",
       "    </tr>\n",
       "    <tr>\n",
       "      <th>14</th>\n",
       "      <td>14</td>\n",
       "      <td>50.00</td>\n",
       "      <td>0.9355</td>\n",
       "      <td>12.917</td>\n",
       "      <td>0.9004</td>\n",
       "      <td>245.975</td>\n",
       "      <td>1291.75</td>\n",
       "      <td>63.95</td>\n",
       "      <td>7.086</td>\n",
       "      <td>1.0000</td>\n",
       "      <td>...</td>\n",
       "      <td>600002</td>\n",
       "      <td>01-10-2018 00:07</td>\n",
       "      <td>4802.85</td>\n",
       "      <td>7941.98</td>\n",
       "      <td>5000.50</td>\n",
       "      <td>1393.070</td>\n",
       "      <td>7579.03</td>\n",
       "      <td>0.46</td>\n",
       "      <td>0.8868</td>\n",
       "      <td>245.461</td>\n",
       "    </tr>\n",
       "    <tr>\n",
       "      <th>15</th>\n",
       "      <td>15</td>\n",
       "      <td>50.00</td>\n",
       "      <td>0.9057</td>\n",
       "      <td>12.554</td>\n",
       "      <td>0.8977</td>\n",
       "      <td>245.203</td>\n",
       "      <td>1291.76</td>\n",
       "      <td>63.95</td>\n",
       "      <td>1.760</td>\n",
       "      <td>1.0000</td>\n",
       "      <td>...</td>\n",
       "      <td>600002</td>\n",
       "      <td>01-10-2018 00:07</td>\n",
       "      <td>3508.20</td>\n",
       "      <td>7942.01</td>\n",
       "      <td>3777.00</td>\n",
       "      <td>1382.400</td>\n",
       "      <td>7579.06</td>\n",
       "      <td>0.46</td>\n",
       "      <td>0.8850</td>\n",
       "      <td>245.082</td>\n",
       "    </tr>\n",
       "    <tr>\n",
       "      <th>16</th>\n",
       "      <td>16</td>\n",
       "      <td>50.00</td>\n",
       "      <td>0.9000</td>\n",
       "      <td>12.552</td>\n",
       "      <td>0.9000</td>\n",
       "      <td>244.830</td>\n",
       "      <td>1291.77</td>\n",
       "      <td>63.95</td>\n",
       "      <td>0.430</td>\n",
       "      <td>1.0000</td>\n",
       "      <td>...</td>\n",
       "      <td>600002</td>\n",
       "      <td>01-10-2018 00:08</td>\n",
       "      <td>3019.00</td>\n",
       "      <td>7942.04</td>\n",
       "      <td>3309.80</td>\n",
       "      <td>1357.930</td>\n",
       "      <td>7579.09</td>\n",
       "      <td>0.46</td>\n",
       "      <td>0.8884</td>\n",
       "      <td>244.990</td>\n",
       "    </tr>\n",
       "    <tr>\n",
       "      <th>17</th>\n",
       "      <td>17</td>\n",
       "      <td>50.00</td>\n",
       "      <td>0.9034</td>\n",
       "      <td>12.574</td>\n",
       "      <td>0.9000</td>\n",
       "      <td>244.761</td>\n",
       "      <td>1291.78</td>\n",
       "      <td>63.95</td>\n",
       "      <td>0.430</td>\n",
       "      <td>1.0000</td>\n",
       "      <td>...</td>\n",
       "      <td>600002</td>\n",
       "      <td>01-10-2018 00:08</td>\n",
       "      <td>3024.78</td>\n",
       "      <td>7942.07</td>\n",
       "      <td>3313.00</td>\n",
       "      <td>1353.000</td>\n",
       "      <td>7579.11</td>\n",
       "      <td>0.46</td>\n",
       "      <td>0.8876</td>\n",
       "      <td>244.955</td>\n",
       "    </tr>\n",
       "    <tr>\n",
       "      <th>18</th>\n",
       "      <td>18</td>\n",
       "      <td>50.00</td>\n",
       "      <td>0.9050</td>\n",
       "      <td>12.596</td>\n",
       "      <td>0.9000</td>\n",
       "      <td>244.928</td>\n",
       "      <td>1291.79</td>\n",
       "      <td>63.95</td>\n",
       "      <td>0.430</td>\n",
       "      <td>1.0000</td>\n",
       "      <td>...</td>\n",
       "      <td>600002</td>\n",
       "      <td>01-10-2018 00:09</td>\n",
       "      <td>3031.92</td>\n",
       "      <td>7942.09</td>\n",
       "      <td>3320.00</td>\n",
       "      <td>1353.690</td>\n",
       "      <td>7579.13</td>\n",
       "      <td>0.46</td>\n",
       "      <td>0.8865</td>\n",
       "      <td>245.165</td>\n",
       "    </tr>\n",
       "    <tr>\n",
       "      <th>19</th>\n",
       "      <td>19</td>\n",
       "      <td>50.00</td>\n",
       "      <td>0.9022</td>\n",
       "      <td>12.553</td>\n",
       "      <td>0.9000</td>\n",
       "      <td>245.012</td>\n",
       "      <td>1291.80</td>\n",
       "      <td>63.95</td>\n",
       "      <td>0.430</td>\n",
       "      <td>1.0000</td>\n",
       "      <td>...</td>\n",
       "      <td>600002</td>\n",
       "      <td>01-10-2018 00:09</td>\n",
       "      <td>3019.54</td>\n",
       "      <td>7942.12</td>\n",
       "      <td>3311.30</td>\n",
       "      <td>1360.540</td>\n",
       "      <td>7579.16</td>\n",
       "      <td>0.46</td>\n",
       "      <td>0.8858</td>\n",
       "      <td>245.413</td>\n",
       "    </tr>\n",
       "  </tbody>\n",
       "</table>\n",
       "<p>20 rows × 21 columns</p>\n",
       "</div>"
      ],
      "text/plain": [
       "    Unnamed: 0  Frequency  TotalPf  b_phase_current  b_phase_pf  \\\n",
       "0            0      50.10   0.9033           12.540      0.9000   \n",
       "1            1      50.10   0.9016           12.565      0.9000   \n",
       "2            2      50.10   0.9257           12.616      0.8963   \n",
       "3            3      50.10   0.9300           12.616      0.8972   \n",
       "4            4      50.10   0.9300           12.610      0.8955   \n",
       "5            5      50.10   0.9605            6.391      0.9424   \n",
       "6            6      50.10   0.9900            1.320      1.0000   \n",
       "7            7      50.01   0.9900            1.320      1.0000   \n",
       "8            8      50.10   0.9900            1.320      1.0000   \n",
       "9            9      50.09   0.9900            1.320      1.0000   \n",
       "10          10      50.00   0.9900            1.320      1.0000   \n",
       "11          11      50.00   0.9900            1.314      1.0000   \n",
       "12          12      50.00   0.9900            1.323      1.0000   \n",
       "13          13      50.00   0.9645            6.051      0.9558   \n",
       "14          14      50.00   0.9355           12.917      0.9004   \n",
       "15          15      50.00   0.9057           12.554      0.8977   \n",
       "16          16      50.00   0.9000           12.552      0.9000   \n",
       "17          17      50.00   0.9034           12.574      0.9000   \n",
       "18          18      50.00   0.9050           12.596      0.9000   \n",
       "19          19      50.00   0.9022           12.553      0.9000   \n",
       "\n",
       "    b_phase_voltage  lag_only_reactive_energy  lead_only_reactive_energy  \\\n",
       "0           245.733                   1291.68                      63.95   \n",
       "1           245.784                   1291.69                      63.95   \n",
       "2           246.290                   1291.70                      63.95   \n",
       "3           246.411                   1291.71                      63.95   \n",
       "4           246.489                   1291.72                      63.95   \n",
       "5           248.556                   1291.73                      63.95   \n",
       "6           249.765                   1291.73                      63.95   \n",
       "7           249.796                   1291.73                      63.95   \n",
       "8           249.969                   1291.73                      63.95   \n",
       "9           250.305                   1291.73                      63.95   \n",
       "10          250.376                   1291.73                      63.95   \n",
       "11          250.363                   1291.73                      63.95   \n",
       "12          250.133                   1291.73                      63.95   \n",
       "13          248.269                   1291.74                      63.95   \n",
       "14          245.975                   1291.75                      63.95   \n",
       "15          245.203                   1291.76                      63.95   \n",
       "16          244.830                   1291.77                      63.95   \n",
       "17          244.761                   1291.78                      63.95   \n",
       "18          244.928                   1291.79                      63.95   \n",
       "19          245.012                   1291.80                      63.95   \n",
       "\n",
       "    r_phase_current  r_phase_pf  ...  meter serial_no         timestamp  \\\n",
       "0             0.580      1.0000  ...           600002  01-10-2018 00:00   \n",
       "1             0.580      1.0000  ...           600002  01-10-2018 00:00   \n",
       "2             6.731      0.9902  ...           600002  01-10-2018 00:01   \n",
       "3             7.251      1.0000  ...           600002  01-10-2018 00:01   \n",
       "4             7.173      1.0000  ...           600002  01-10-2018 00:02   \n",
       "5             7.230      1.0000  ...           600002  01-10-2018 00:02   \n",
       "6             7.267      1.0000  ...           600002  01-10-2018 00:03   \n",
       "7             7.305      1.0000  ...           600002  01-10-2018 00:03   \n",
       "8             7.297      1.0000  ...           600002  01-10-2018 00:04   \n",
       "9             7.310      1.0000  ...           600002  01-10-2018 00:04   \n",
       "10            7.313      1.0000  ...           600002  01-10-2018 00:05   \n",
       "11            7.302      1.0000  ...           600002  01-10-2018 00:05   \n",
       "12            7.270      1.0000  ...           600002  01-10-2018 00:06   \n",
       "13            7.152      1.0000  ...           600002  01-10-2018 00:06   \n",
       "14            7.086      1.0000  ...           600002  01-10-2018 00:07   \n",
       "15            1.760      1.0000  ...           600002  01-10-2018 00:07   \n",
       "16            0.430      1.0000  ...           600002  01-10-2018 00:08   \n",
       "17            0.430      1.0000  ...           600002  01-10-2018 00:08   \n",
       "18            0.430      1.0000  ...           600002  01-10-2018 00:09   \n",
       "19            0.430      1.0000  ...           600002  01-10-2018 00:09   \n",
       "\n",
       "   total_active_power  total_apparent_energy  total_apparent_power  \\\n",
       "0             3066.28                7941.59               3356.64   \n",
       "1             3075.12                7941.62               3365.50   \n",
       "2             4608.20                7941.66               4840.40   \n",
       "3             4766.26                7941.70               4969.53   \n",
       "4             4745.28                7941.74               4949.64   \n",
       "5             3491.86                7941.78               3593.73   \n",
       "6             2287.66                7941.80               2287.66   \n",
       "7             2290.66                7941.82               2290.66   \n",
       "8             2288.64                7941.84               2288.64   \n",
       "9             2293.35                7941.85               2293.35   \n",
       "10            2293.85                7941.87               2293.85   \n",
       "11            2289.40                7941.89               2289.40   \n",
       "12            2287.35                7941.91               2287.35   \n",
       "13            3290.33                7941.94               3378.33   \n",
       "14            4802.85                7941.98               5000.50   \n",
       "15            3508.20                7942.01               3777.00   \n",
       "16            3019.00                7942.04               3309.80   \n",
       "17            3024.78                7942.07               3313.00   \n",
       "18            3031.92                7942.09               3320.00   \n",
       "19            3019.54                7942.12               3311.30   \n",
       "\n",
       "    total_reactive_power  total_real_energy  y_phase_current  y_phase_pf  \\\n",
       "0               1366.930            7578.66             0.46      0.8900   \n",
       "1               1368.750            7578.69             0.46      0.8890   \n",
       "2               1461.130            7578.72             0.46      0.8891   \n",
       "3               1408.130            7578.76             0.46      0.8876   \n",
       "4               1409.430            7578.80             0.46      0.8892   \n",
       "5                730.463            7578.83             0.46      0.8884   \n",
       "6                 50.998            7578.85             0.46      0.8881   \n",
       "7                 50.462            7578.87             0.46      0.8889   \n",
       "8                 50.569            7578.89             0.46      0.8900   \n",
       "9                 50.425            7578.91             0.46      0.8900   \n",
       "10                50.495            7578.93             0.46      0.8900   \n",
       "11                50.464            7578.95             0.46      0.8886   \n",
       "12                51.783            7578.97             0.46      0.8861   \n",
       "13               613.196            7578.99             0.46      0.8856   \n",
       "14              1393.070            7579.03             0.46      0.8868   \n",
       "15              1382.400            7579.06             0.46      0.8850   \n",
       "16              1357.930            7579.09             0.46      0.8884   \n",
       "17              1353.000            7579.11             0.46      0.8876   \n",
       "18              1353.690            7579.13             0.46      0.8865   \n",
       "19              1360.540            7579.16             0.46      0.8858   \n",
       "\n",
       "    y_phase_voltage  \n",
       "0           245.204  \n",
       "1           245.265  \n",
       "2           245.536  \n",
       "3           245.096  \n",
       "4           244.900  \n",
       "5           244.857  \n",
       "6           244.906  \n",
       "7           244.850  \n",
       "8           244.982  \n",
       "9           244.939  \n",
       "10          244.718  \n",
       "11          244.750  \n",
       "12          245.461  \n",
       "13          245.317  \n",
       "14          245.461  \n",
       "15          245.082  \n",
       "16          244.990  \n",
       "17          244.955  \n",
       "18          245.165  \n",
       "19          245.413  \n",
       "\n",
       "[20 rows x 21 columns]"
      ]
     },
     "execution_count": 2,
     "metadata": {},
     "output_type": "execute_result"
    }
   ],
   "source": [
    "# Read CSv file \n",
    "df = pd.read_csv('600002-10days.csv')\n",
    "df.head(20)"
   ]
  },
  {
   "cell_type": "code",
   "execution_count": 3,
   "metadata": {},
   "outputs": [
    {
     "data": {
      "text/html": [
       "<div>\n",
       "<style scoped>\n",
       "    .dataframe tbody tr th:only-of-type {\n",
       "        vertical-align: middle;\n",
       "    }\n",
       "\n",
       "    .dataframe tbody tr th {\n",
       "        vertical-align: top;\n",
       "    }\n",
       "\n",
       "    .dataframe thead th {\n",
       "        text-align: right;\n",
       "    }\n",
       "</style>\n",
       "<table border=\"1\" class=\"dataframe\">\n",
       "  <thead>\n",
       "    <tr style=\"text-align: right;\">\n",
       "      <th></th>\n",
       "      <th>r_phase_current</th>\n",
       "      <th>timestamp</th>\n",
       "      <th>total_active_power</th>\n",
       "    </tr>\n",
       "  </thead>\n",
       "  <tbody>\n",
       "    <tr>\n",
       "      <th>0</th>\n",
       "      <td>0.580</td>\n",
       "      <td>01-10-2018 00:00</td>\n",
       "      <td>3066.28</td>\n",
       "    </tr>\n",
       "    <tr>\n",
       "      <th>1</th>\n",
       "      <td>0.580</td>\n",
       "      <td>01-10-2018 00:00</td>\n",
       "      <td>3075.12</td>\n",
       "    </tr>\n",
       "    <tr>\n",
       "      <th>2</th>\n",
       "      <td>6.731</td>\n",
       "      <td>01-10-2018 00:01</td>\n",
       "      <td>4608.20</td>\n",
       "    </tr>\n",
       "    <tr>\n",
       "      <th>3</th>\n",
       "      <td>7.251</td>\n",
       "      <td>01-10-2018 00:01</td>\n",
       "      <td>4766.26</td>\n",
       "    </tr>\n",
       "    <tr>\n",
       "      <th>4</th>\n",
       "      <td>7.173</td>\n",
       "      <td>01-10-2018 00:02</td>\n",
       "      <td>4745.28</td>\n",
       "    </tr>\n",
       "    <tr>\n",
       "      <th>...</th>\n",
       "      <td>...</td>\n",
       "      <td>...</td>\n",
       "      <td>...</td>\n",
       "    </tr>\n",
       "    <tr>\n",
       "      <th>28624</th>\n",
       "      <td>0.888</td>\n",
       "      <td>10-10-2018 23:57</td>\n",
       "      <td>487.31</td>\n",
       "    </tr>\n",
       "    <tr>\n",
       "      <th>28625</th>\n",
       "      <td>6.615</td>\n",
       "      <td>10-10-2018 23:58</td>\n",
       "      <td>1775.50</td>\n",
       "    </tr>\n",
       "    <tr>\n",
       "      <th>28626</th>\n",
       "      <td>7.505</td>\n",
       "      <td>10-10-2018 23:58</td>\n",
       "      <td>2131.62</td>\n",
       "    </tr>\n",
       "    <tr>\n",
       "      <th>28627</th>\n",
       "      <td>7.412</td>\n",
       "      <td>10-10-2018 23:59</td>\n",
       "      <td>4688.42</td>\n",
       "    </tr>\n",
       "    <tr>\n",
       "      <th>28628</th>\n",
       "      <td>7.318</td>\n",
       "      <td>10-10-2018 23:59</td>\n",
       "      <td>4568.71</td>\n",
       "    </tr>\n",
       "  </tbody>\n",
       "</table>\n",
       "<p>28629 rows × 3 columns</p>\n",
       "</div>"
      ],
      "text/plain": [
       "       r_phase_current         timestamp  total_active_power\n",
       "0                0.580  01-10-2018 00:00             3066.28\n",
       "1                0.580  01-10-2018 00:00             3075.12\n",
       "2                6.731  01-10-2018 00:01             4608.20\n",
       "3                7.251  01-10-2018 00:01             4766.26\n",
       "4                7.173  01-10-2018 00:02             4745.28\n",
       "...                ...               ...                 ...\n",
       "28624            0.888  10-10-2018 23:57              487.31\n",
       "28625            6.615  10-10-2018 23:58             1775.50\n",
       "28626            7.505  10-10-2018 23:58             2131.62\n",
       "28627            7.412  10-10-2018 23:59             4688.42\n",
       "28628            7.318  10-10-2018 23:59             4568.71\n",
       "\n",
       "[28629 rows x 3 columns]"
      ]
     },
     "execution_count": 3,
     "metadata": {},
     "output_type": "execute_result"
    }
   ],
   "source": [
    "# Take only two features data with time stamps\n",
    "df1 = pd.read_csv('600002-10days.csv',usecols=['timestamp','r_phase_current','total_active_power'])\n",
    "df1"
   ]
  },
  {
   "cell_type": "code",
   "execution_count": 4,
   "metadata": {},
   "outputs": [
    {
     "data": {
      "text/plain": [
       "<AxesSubplot:>"
      ]
     },
     "execution_count": 4,
     "metadata": {},
     "output_type": "execute_result"
    },
    {
     "data": {
      "image/png": "[encoded data removed]",
      "text/plain": [
       "<Figure size 432x288 with 1 Axes>"
      ]
     },
     "metadata": {
      "needs_background": "light"
     },
     "output_type": "display_data"
    }
   ],
   "source": [
    "#  Plot all r- phase current values\n",
    "df1['r_phase_current'][:].plot()"
   ]
  },
  {
   "cell_type": "markdown",
   "metadata": {},
   "source": [
    "#### Oserving r-phase current value patterns for different intervals "
   ]
  },
  {
   "cell_type": "code",
   "execution_count": 5,
   "metadata": {
    "scrolled": true
   },
   "outputs": [
    {
     "data": {
      "image/png": "[encoded data removed]",
      "text/plain": [
       "<Figure size 432x288 with 1 Axes>"
      ]
     },
     "metadata": {
      "needs_background": "light"
     },
     "output_type": "display_data"
    }
   ],
   "source": [
    "# Visualise first 5000 rows data \n",
    "df1['r_phase_current'][:5000].plot()\n",
    "plt.tight_layout()\n",
    "plt.show()"
   ]
  },
  {
   "cell_type": "code",
   "execution_count": 6,
   "metadata": {},
   "outputs": [
    {
     "data": {
      "text/plain": [
       "<AxesSubplot:>"
      ]
     },
     "execution_count": 6,
     "metadata": {},
     "output_type": "execute_result"
    },
    {
     "data": {
      "image/png": "[encoded data removed]",
      "text/plain": [
       "<Figure size 432x288 with 1 Axes>"
      ]
     },
     "metadata": {
      "needs_background": "light"
     },
     "output_type": "display_data"
    }
   ],
   "source": [
    "df1['r_phase_current'][:100].plot()"
   ]
  },
  {
   "cell_type": "code",
   "execution_count": 7,
   "metadata": {},
   "outputs": [
    {
     "data": {
      "text/plain": [
       "<AxesSubplot:>"
      ]
     },
     "execution_count": 7,
     "metadata": {},
     "output_type": "execute_result"
    },
    {
     "data": {
      "image/png": "[encoded data removed]",
      "text/plain": [
       "<Figure size 432x288 with 1 Axes>"
      ]
     },
     "metadata": {
      "needs_background": "light"
     },
     "output_type": "display_data"
    }
   ],
   "source": [
    "df1['r_phase_current'][:894].plot()"
   ]
  },
  {
   "cell_type": "code",
   "execution_count": 8,
   "metadata": {},
   "outputs": [
    {
     "data": {
      "text/plain": [
       "<AxesSubplot:>"
      ]
     },
     "execution_count": 8,
     "metadata": {},
     "output_type": "execute_result"
    },
    {
     "data": {
      "image/png": "[encoded data removed]",
      "text/plain": [
       "<Figure size 432x288 with 1 Axes>"
      ]
     },
     "metadata": {
      "needs_background": "light"
     },
     "output_type": "display_data"
    }
   ],
   "source": [
    "df1['r_phase_current'][895:1788].plot()"
   ]
  },
  {
   "cell_type": "code",
   "execution_count": 9,
   "metadata": {},
   "outputs": [
    {
     "data": {
      "text/plain": [
       "<AxesSubplot:>"
      ]
     },
     "execution_count": 9,
     "metadata": {},
     "output_type": "execute_result"
    },
    {
     "data": {
      "image/png": "[encoded data removed]",
      "text/plain": [
       "<Figure size 432x288 with 1 Axes>"
      ]
     },
     "metadata": {
      "needs_background": "light"
     },
     "output_type": "display_data"
    }
   ],
   "source": [
    "df1['r_phase_current'][1788:2662].plot()"
   ]
  },
  {
   "cell_type": "code",
   "execution_count": 10,
   "metadata": {},
   "outputs": [
    {
     "data": {
      "text/plain": [
       "<AxesSubplot:>"
      ]
     },
     "execution_count": 10,
     "metadata": {},
     "output_type": "execute_result"
    },
    {
     "data": {
      "image/png": "[encoded data removed]",
      "text/plain": [
       "<Figure size 432x288 with 1 Axes>"
      ]
     },
     "metadata": {
      "needs_background": "light"
     },
     "output_type": "display_data"
    }
   ],
   "source": [
    "df1['r_phase_current'][2662:3576].plot()"
   ]
  },
  {
   "cell_type": "code",
   "execution_count": 11,
   "metadata": {},
   "outputs": [
    {
     "data": {
      "text/plain": [
       "<AxesSubplot:>"
      ]
     },
     "execution_count": 11,
     "metadata": {},
     "output_type": "execute_result"
    },
    {
     "data": {
      "image/png": "[encoded data removed]",
      "text/plain": [
       "<Figure size 432x288 with 1 Axes>"
      ]
     },
     "metadata": {
      "needs_background": "light"
     },
     "output_type": "display_data"
    }
   ],
   "source": [
    "df1['r_phase_current'][1000:2000].plot()"
   ]
  },
  {
   "cell_type": "code",
   "execution_count": 12,
   "metadata": {},
   "outputs": [
    {
     "data": {
      "text/plain": [
       "<AxesSubplot:>"
      ]
     },
     "execution_count": 12,
     "metadata": {},
     "output_type": "execute_result"
    },
    {
     "data": {
      "image/png": "[encoded data removed]",
      "text/plain": [
       "<Figure size 432x288 with 1 Axes>"
      ]
     },
     "metadata": {
      "needs_background": "light"
     },
     "output_type": "display_data"
    }
   ],
   "source": [
    "df1['r_phase_current'][2000:3000].plot()"
   ]
  },
  {
   "cell_type": "code",
   "execution_count": 13,
   "metadata": {},
   "outputs": [
    {
     "data": {
      "text/plain": [
       "<AxesSubplot:>"
      ]
     },
     "execution_count": 13,
     "metadata": {},
     "output_type": "execute_result"
    },
    {
     "data": {
      "image/png": "[encoded data removed]",
      "text/plain": [
       "<Figure size 432x288 with 1 Axes>"
      ]
     },
     "metadata": {
      "needs_background": "light"
     },
     "output_type": "display_data"
    }
   ],
   "source": [
    "df1['r_phase_current'][3000:4000].plot()"
   ]
  },
  {
   "cell_type": "code",
   "execution_count": 14,
   "metadata": {},
   "outputs": [
    {
     "data": {
      "text/plain": [
       "0        0.580\n",
       "200      7.275\n",
       "400      7.280\n",
       "600      6.890\n",
       "800      0.507\n",
       "         ...  \n",
       "27800    0.570\n",
       "28000    0.960\n",
       "28200    5.923\n",
       "28400    0.760\n",
       "28600    0.886\n",
       "Name: r_phase_current, Length: 144, dtype: float64"
      ]
     },
     "execution_count": 14,
     "metadata": {},
     "output_type": "execute_result"
    }
   ],
   "source": [
    "# Check r-phase current values after each 200 cycle\n",
    "df1['r_phase_current'][::200]"
   ]
  },
  {
   "cell_type": "code",
   "execution_count": 15,
   "metadata": {},
   "outputs": [
    {
     "data": {
      "text/plain": [
       "144"
      ]
     },
     "execution_count": 15,
     "metadata": {},
     "output_type": "execute_result"
    }
   ],
   "source": [
    "# Total no of list with 200 elements \n",
    "len(df1['r_phase_current'][::200])"
   ]
  },
  {
   "cell_type": "markdown",
   "metadata": {},
   "source": [
    "#### Creating 144 list with 200 elements windows framing"
   ]
  },
  {
   "cell_type": "code",
   "execution_count": 16,
   "metadata": {},
   "outputs": [],
   "source": [
    "\n",
    "k = []\n",
    "start = 0\n",
    "stop = 200\n",
    "for i in range(len(df1['r_phase_current'][::200])):\n",
    "    k.append(np.array(df1['r_phase_current'])[start:stop])\n",
    "    start = stop\n",
    "    stop = stop+200"
   ]
  },
  {
   "cell_type": "code",
   "execution_count": 17,
   "metadata": {},
   "outputs": [
    {
     "data": {
      "text/plain": [
       "array([0.58 , 0.58 , 6.731, 7.251, 7.173, 7.23 , 7.267, 7.305, 7.297,\n",
       "       7.31 , 7.313, 7.302, 7.27 , 7.152, 7.086, 1.76 , 0.43 , 0.43 ,\n",
       "       0.43 , 0.43 , 0.43 , 5.232, 7.131, 7.036, 7.016, 7.058, 7.08 ,\n",
       "       7.104, 7.149, 7.097, 2.978, 0.43 , 0.43 , 0.43 , 0.43 , 0.43 ,\n",
       "       0.43 , 6.999, 7.14 , 7.015, 7.044, 7.091, 7.161, 7.224, 7.265,\n",
       "       6.208, 0.44 , 0.44 , 0.44 , 0.44 , 0.44 , 0.44 , 0.44 , 5.625,\n",
       "       7.263, 7.179, 7.225, 7.225, 7.236, 7.273, 7.273, 7.237, 6.362,\n",
       "       0.588, 0.59 , 0.59 , 0.585, 0.58 , 0.58 , 0.581, 2.921, 7.488,\n",
       "       7.384, 7.322, 7.389, 7.43 , 7.437, 7.432, 4.857, 0.59 , 0.588,\n",
       "       0.59 , 0.59 , 0.59 , 0.58 , 3.151, 7.51 , 7.38 , 7.364, 7.415,\n",
       "       7.382, 7.383, 7.443, 7.492, 1.367, 0.59 , 0.585, 0.58 , 0.587,\n",
       "       0.583, 0.582, 1.43 , 7.421, 7.362, 7.291, 7.356, 7.428, 7.408,\n",
       "       7.383, 6.794, 0.58 , 0.58 , 0.58 , 0.58 , 0.58 , 0.58 , 0.583,\n",
       "       1.451, 7.461, 7.407, 7.309, 7.368, 7.377, 7.374, 7.391, 4.538,\n",
       "       0.58 , 0.58 , 0.496, 0.44 , 0.44 , 0.44 , 0.44 , 3.483, 7.286,\n",
       "       7.174, 7.095, 7.097, 7.143, 7.182, 7.194, 2.582, 0.437, 0.44 ,\n",
       "       0.44 , 0.437, 0.438, 0.44 , 0.438, 2.922, 7.266, 7.145, 7.1  ,\n",
       "       7.152, 7.158, 7.136, 7.162, 0.763, 0.432, 0.433, 0.432, 0.43 ,\n",
       "       0.43 , 0.43 , 0.431, 4.937, 7.214, 7.123, 7.09 , 7.125, 7.158,\n",
       "       7.196, 3.928, 0.43 , 0.43 , 0.43 , 0.43 , 0.434, 0.438, 0.557,\n",
       "       0.58 , 3.496, 7.381, 7.29 , 7.263, 7.305, 7.321, 7.337, 7.337,\n",
       "       0.886, 0.578, 0.577, 0.58 , 0.58 , 0.58 , 0.58 , 0.58 , 1.427,\n",
       "       7.413, 7.355])"
      ]
     },
     "execution_count": 17,
     "metadata": {},
     "output_type": "execute_result"
    }
   ],
   "source": [
    "k[0]"
   ]
  },
  {
   "cell_type": "code",
   "execution_count": 18,
   "metadata": {},
   "outputs": [
    {
     "data": {
      "text/plain": [
       "array([7.275, 7.281, 7.269, 7.279, 1.867, 0.58 , 0.58 , 0.58 , 0.58 ,\n",
       "       0.58 , 0.58 , 0.584, 0.583, 7.032, 7.27 , 7.228, 7.206, 7.281,\n",
       "       7.273, 5.331, 0.58 , 0.58 , 0.58 , 0.58 , 0.58 , 0.58 , 0.58 ,\n",
       "       0.58 , 0.58 , 3.239, 7.332, 7.265, 7.209, 7.227, 7.255, 7.248,\n",
       "       5.672, 0.58 , 0.58 , 0.58 , 0.58 , 0.579, 0.58 , 0.503, 0.44 ,\n",
       "       0.439, 2.532, 7.155, 7.021, 6.965, 7.041, 7.07 , 7.078, 2.187,\n",
       "       0.43 , 0.43 , 0.43 , 0.448, 0.58 , 0.58 , 0.575, 0.58 , 0.58 ,\n",
       "       6.25 , 7.233, 7.156, 7.108, 7.11 , 7.145, 5.899, 0.576, 0.578,\n",
       "       0.58 , 0.58 , 0.58 , 0.58 , 0.58 , 0.58 , 0.58 , 2.562, 7.242,\n",
       "       7.171, 7.116, 7.139, 7.207, 7.188, 2.926, 0.58 , 0.58 , 0.58 ,\n",
       "       0.58 , 0.58 , 0.58 , 0.578, 0.573, 0.58 , 3.699, 7.268, 7.189,\n",
       "       7.173, 7.202, 7.233, 7.246, 1.781, 0.58 , 0.58 , 0.576, 0.577,\n",
       "       0.575, 0.575, 0.575, 0.579, 2.187, 7.255, 7.146, 7.081, 7.073,\n",
       "       7.007, 7.01 , 3.251, 0.44 , 0.44 , 0.44 , 0.44 , 0.44 , 0.44 ,\n",
       "       0.978, 1.28 , 1.28 , 2.123, 7.879, 7.885, 7.832, 7.805, 7.844,\n",
       "       7.866, 2.478, 1.29 , 1.283, 1.284, 1.287, 1.29 , 1.28 , 1.28 ,\n",
       "       1.28 , 1.28 , 5.558, 7.892, 7.789, 7.788, 7.799, 7.808, 4.632,\n",
       "       1.29 , 1.29 , 1.29 , 1.29 , 1.29 , 1.29 , 1.29 , 1.29 , 1.29 ,\n",
       "       3.752, 7.909, 7.818, 7.775, 7.808, 7.837, 7.399, 2.481, 0.43 ,\n",
       "       0.43 , 0.43 , 0.43 , 0.43 , 0.43 , 0.43 , 0.43 , 0.43 , 0.43 ,\n",
       "       5.488, 7.006, 6.937, 7.156, 7.315, 7.316, 6.75 , 0.818, 0.933,\n",
       "       0.91 , 0.886, 0.849, 0.83 , 0.857, 0.871, 0.87 , 0.87 , 3.757,\n",
       "       7.472, 7.324])"
      ]
     },
     "execution_count": 18,
     "metadata": {},
     "output_type": "execute_result"
    }
   ],
   "source": [
    "k[1]"
   ]
  },
  {
   "cell_type": "code",
   "execution_count": 19,
   "metadata": {},
   "outputs": [
    {
     "name": "stdout",
     "output_type": "stream",
     "text": [
      "total list no 144\n",
      "toal elements in one elements 200\n"
     ]
    }
   ],
   "source": [
    "print(f'total list no {len(k)}')\n",
    "print(f'toal elements in one elements {len(k[94])}')"
   ]
  },
  {
   "cell_type": "markdown",
   "metadata": {},
   "source": [
    "#### Pearson Correlation Cofficient \n",
    "- Pearson's correlation coefficient is the test statistics that measures the statistical relationship, or association, between two continuous variables.\n",
    "- It gives information about the magnitude of the association, or correlation, as well as the direction of the relationship.\n",
    "<img src=\"pearsonFor.png\">"
   ]
  },
  {
   "cell_type": "markdown",
   "metadata": {},
   "source": [
    "####  Define function for pearson correlation cofficient correlation \n"
   ]
  },
  {
   "cell_type": "code",
   "execution_count": 20,
   "metadata": {},
   "outputs": [],
   "source": [
    "# Define function for pearson correlation cofficient correlation \n",
    "def pearson(s1, s2):\n",
    "    s1_c=s1-np.mean(s1)\n",
    "    s2_c=s2-np.mean(s2)\n",
    "    return np.sum(s1_c * s2_c) / np.sqrt(np.sum(s1_c ** 2) * np.sum(s2_c ** 2))"
   ]
  },
  {
   "cell_type": "code",
   "execution_count": 21,
   "metadata": {},
   "outputs": [
    {
     "data": {
      "text/plain": [
       "0"
      ]
     },
     "execution_count": 21,
     "metadata": {},
     "output_type": "execute_result"
    }
   ],
   "source": [
    "# Checking is there any null values\n",
    "df1['r_phase_current'].isnull().sum()"
   ]
  },
  {
   "cell_type": "code",
   "execution_count": 22,
   "metadata": {},
   "outputs": [
    {
     "data": {
      "text/plain": [
       "[<matplotlib.lines.Line2D at 0x17065374fa0>]"
      ]
     },
     "execution_count": 22,
     "metadata": {},
     "output_type": "execute_result"
    },
    {
     "data": {
      "image/png": "[encoded data removed]",
      "text/plain": [
       "<Figure size 432x288 with 1 Axes>"
      ]
     },
     "metadata": {
      "needs_background": "light"
     },
     "output_type": "display_data"
    }
   ],
   "source": [
    "# Define a general pattern, through which we will match data sets values patterns\n",
    "plt.plot(k[0])"
   ]
  },
  {
   "cell_type": "code",
   "execution_count": 23,
   "metadata": {
    "scrolled": true
   },
   "outputs": [
    {
     "name": "stdout",
     "output_type": "stream",
     "text": [
      "143\n"
     ]
    }
   ],
   "source": [
    "# Calculate pearson correlation cofficient & error handling\n",
    "pear = []\n",
    "for i in range(144):\n",
    "    try:\n",
    "        pear.append(pearson(k[i],k[0]))\n",
    "    except:\n",
    "        print(i)\n",
    "    "
   ]
  },
  {
   "cell_type": "code",
   "execution_count": 24,
   "metadata": {},
   "outputs": [
    {
     "name": "stdout",
     "output_type": "stream",
     "text": [
      "[1.0, -0.3676898371145807, -0.07883101668981278, -0.008370468746193568, 0.17696390882956028, -0.054781572164111815, 0.1621272741396571, -0.04213344365177159, -0.10032148149233992, -0.019089300803484113, 0.013762419686664945, -0.05008420383592996, -0.09529964426308109, 0.0027476425679788816, 0.29598859891679846, -0.17536509550593377, 0.17432345125831836, -0.03727703777946074, 0.029107364113049174, -0.002177503996260947, 0.015080044519625836, -0.05852311491454606, -0.047716099716619054, 0.09435280828919167, -0.023720901465917772, -0.02638355130070307, 0.09918873302511283, 0.11916451676611735, -0.03897084080955776, 0.3856577099443583, -0.7093742213763888, 0.17283046441942737, 0.08310019758311872, -0.06219416985819849, -0.1754021885868306, 0.07890356954737736, -0.15952972861176112, 0.14949341753891784, -0.05128668207289017, -0.10459583983705324, -0.08663443690129734, -0.17121106123458077, -0.12234732081839236, 0.5410959175287247, 0.13012374583254271, 0.17286309000462943, -0.18226151879485109, 0.09314867133287363, -0.0887598004901751, 0.14417278855516963, 0.11163746716313507, -0.17789238355452122, 0.0187266920965572, -0.010615963414953002, 0.16310788713265847, 0.09756157999094199, -0.03425832471860846, 0.08687548582518659, -0.6849463297119582, 0.24836220626491576, -0.001994106870974235, 0.09257724184883084, -0.048298616011932555, 0.06786844370680617, 0.14636644003142021, -0.0363456568637198, -0.030040570199834003, 0.055273300393406485, 0.013990558088398674, -0.11422873743789545, -0.3048581102388307, 0.21281694601878193, -0.033233618582316, 0.03560382110623776, -0.012472230387360159, -0.005101455036014498, 0.10257674757089442, -0.04747600644223764, -0.0006223354520990092, -0.10969695288891376, -0.15475653203495635, 0.109197956072034, -0.14306383971752967, 0.08574447865112181, 0.08622807135970492, 0.1624144374519482, -0.12427473581879633, -0.03155587534004533, -0.002166233712191637, 0.035356158420689, 0.1624533806192649, -0.16563244196153826, -0.10508079476556027, -0.16699583743040242, 0.023512822333406864, -0.21847077991371072, -0.001721965633671437, -0.05406334864458332, -0.04081244454317125, -0.05807943349888617, 0.004243175677960264, -0.04452122898317746, -0.22040130838519928, -0.20320819879581883, 0.1708986872714381, 0.012718556670282374, -0.09653438222869311, -0.14118095397266614, -0.10977431544523973, 0.01758966690127484, 0.03706860086079917, -0.07281770605039804, -0.05210284359565866, -0.0034828831968930786, 0.11217387459939643, 0.14312567099989415, 0.006067814263107161, 0.0185251692454648, -0.07652512189963509, -0.06185448023591972, -0.024798875776746745, -0.08244241297736099, -0.010077253812616703, 0.13249940846646563, -0.0813129836657566, -0.000501978993600943, 0.060057485904182986, -0.1135940918486126, 0.029779240158034195, -0.022985926204808375, -0.042668475623146705, 0.05579565913031651, -0.006867945368063733, 0.06322847379785743, -0.018056414021091392, 0.07424990448105391, 0.05077122072929732, -0.16816736467693313, -0.02176375325126714, -0.1494814805724, -0.06042724284422415, 0.02320382004168861, -0.04358500831569041]\n"
     ]
    }
   ],
   "source": [
    "# pearson corr values for 143 list \n",
    "print(pear)"
   ]
  },
  {
   "cell_type": "markdown",
   "metadata": {},
   "source": [
    "#### "
   ]
  },
  {
   "cell_type": "markdown",
   "metadata": {},
   "source": [
    "#### Decide 4 appliances based on correlation values and store them in to a list"
   ]
  },
  {
   "cell_type": "code",
   "execution_count": 25,
   "metadata": {},
   "outputs": [
    {
     "name": "stdout",
     "output_type": "stream",
     "text": [
      "1.0 represents class 0\n",
      "0.3676898371145807 represents class 1\n",
      "0.07883101668981278 represents class 3\n",
      "0.008370468746193568 represents class 3\n",
      "0.17696390882956028 represents class 2\n",
      "0.054781572164111815 represents class 3\n",
      "0.1621272741396571 represents class 2\n",
      "0.04213344365177159 represents class 3\n",
      "0.10032148149233992 represents class 2\n",
      "0.019089300803484113 represents class 3\n",
      "0.013762419686664945 represents class 3\n",
      "0.05008420383592996 represents class 3\n",
      "0.09529964426308109 represents class 3\n",
      "0.0027476425679788816 represents class 3\n",
      "0.29598859891679846 represents class 2\n",
      "0.17536509550593377 represents class 2\n",
      "0.17432345125831836 represents class 2\n",
      "0.03727703777946074 represents class 3\n",
      "0.029107364113049174 represents class 3\n",
      "0.002177503996260947 represents class 3\n",
      "0.015080044519625836 represents class 3\n",
      "0.05852311491454606 represents class 3\n",
      "0.047716099716619054 represents class 3\n",
      "0.09435280828919167 represents class 3\n",
      "0.023720901465917772 represents class 3\n",
      "0.02638355130070307 represents class 3\n",
      "0.09918873302511283 represents class 3\n",
      "0.11916451676611735 represents class 2\n",
      "0.03897084080955776 represents class 3\n",
      "0.3856577099443583 represents class 1\n",
      "0.7093742213763888 represents class 0\n",
      "0.17283046441942737 represents class 2\n",
      "0.08310019758311872 represents class 3\n",
      "0.06219416985819849 represents class 3\n",
      "0.1754021885868306 represents class 2\n",
      "0.07890356954737736 represents class 3\n",
      "0.15952972861176112 represents class 2\n",
      "0.14949341753891784 represents class 2\n",
      "0.05128668207289017 represents class 3\n",
      "0.10459583983705324 represents class 2\n",
      "0.08663443690129734 represents class 3\n",
      "0.17121106123458077 represents class 2\n",
      "0.12234732081839236 represents class 2\n",
      "0.5410959175287247 represents class 1\n",
      "0.13012374583254271 represents class 2\n",
      "0.17286309000462943 represents class 2\n",
      "0.18226151879485109 represents class 2\n",
      "0.09314867133287363 represents class 3\n",
      "0.0887598004901751 represents class 3\n",
      "0.14417278855516963 represents class 2\n",
      "0.11163746716313507 represents class 2\n",
      "0.17789238355452122 represents class 2\n",
      "0.0187266920965572 represents class 3\n",
      "0.010615963414953002 represents class 3\n",
      "0.16310788713265847 represents class 2\n",
      "0.09756157999094199 represents class 3\n",
      "0.03425832471860846 represents class 3\n",
      "0.08687548582518659 represents class 3\n",
      "0.6849463297119582 represents class 1\n",
      "0.24836220626491576 represents class 2\n",
      "0.001994106870974235 represents class 3\n",
      "0.09257724184883084 represents class 3\n",
      "0.048298616011932555 represents class 3\n",
      "0.06786844370680617 represents class 3\n",
      "0.14636644003142021 represents class 2\n",
      "0.0363456568637198 represents class 3\n",
      "0.030040570199834003 represents class 3\n",
      "0.055273300393406485 represents class 3\n",
      "0.013990558088398674 represents class 3\n",
      "0.11422873743789545 represents class 2\n",
      "0.3048581102388307 represents class 1\n",
      "0.21281694601878193 represents class 2\n",
      "0.033233618582316 represents class 3\n",
      "0.03560382110623776 represents class 3\n",
      "0.012472230387360159 represents class 3\n",
      "0.005101455036014498 represents class 3\n",
      "0.10257674757089442 represents class 2\n",
      "0.04747600644223764 represents class 3\n",
      "0.0006223354520990092 represents class 3\n",
      "0.10969695288891376 represents class 2\n",
      "0.15475653203495635 represents class 2\n",
      "0.109197956072034 represents class 2\n",
      "0.14306383971752967 represents class 2\n",
      "0.08574447865112181 represents class 3\n",
      "0.08622807135970492 represents class 3\n",
      "0.1624144374519482 represents class 2\n",
      "0.12427473581879633 represents class 2\n",
      "0.03155587534004533 represents class 3\n",
      "0.002166233712191637 represents class 3\n",
      "0.035356158420689 represents class 3\n",
      "0.1624533806192649 represents class 2\n",
      "0.16563244196153826 represents class 2\n",
      "0.10508079476556027 represents class 2\n",
      "0.16699583743040242 represents class 2\n",
      "0.023512822333406864 represents class 3\n",
      "0.21847077991371072 represents class 2\n",
      "0.001721965633671437 represents class 3\n",
      "0.05406334864458332 represents class 3\n",
      "0.04081244454317125 represents class 3\n",
      "0.05807943349888617 represents class 3\n",
      "0.004243175677960264 represents class 3\n",
      "0.04452122898317746 represents class 3\n",
      "0.22040130838519928 represents class 2\n",
      "0.20320819879581883 represents class 2\n",
      "0.1708986872714381 represents class 2\n",
      "0.012718556670282374 represents class 3\n",
      "0.09653438222869311 represents class 3\n",
      "0.14118095397266614 represents class 2\n",
      "0.10977431544523973 represents class 2\n",
      "0.01758966690127484 represents class 3\n",
      "0.03706860086079917 represents class 3\n",
      "0.07281770605039804 represents class 3\n",
      "0.05210284359565866 represents class 3\n",
      "0.0034828831968930786 represents class 3\n",
      "0.11217387459939643 represents class 2\n",
      "0.14312567099989415 represents class 2\n",
      "0.006067814263107161 represents class 3\n",
      "0.0185251692454648 represents class 3\n",
      "0.07652512189963509 represents class 3\n",
      "0.06185448023591972 represents class 3\n",
      "0.024798875776746745 represents class 3\n",
      "0.08244241297736099 represents class 3\n",
      "0.010077253812616703 represents class 3\n",
      "0.13249940846646563 represents class 2\n",
      "0.0813129836657566 represents class 3\n",
      "0.000501978993600943 represents class 3\n",
      "0.060057485904182986 represents class 3\n",
      "0.1135940918486126 represents class 2\n",
      "0.029779240158034195 represents class 3\n",
      "0.022985926204808375 represents class 3\n",
      "0.042668475623146705 represents class 3\n",
      "0.05579565913031651 represents class 3\n",
      "0.006867945368063733 represents class 3\n",
      "0.06322847379785743 represents class 3\n",
      "0.018056414021091392 represents class 3\n",
      "0.07424990448105391 represents class 3\n",
      "0.05077122072929732 represents class 3\n",
      "0.16816736467693313 represents class 2\n",
      "0.02176375325126714 represents class 3\n",
      "0.1494814805724 represents class 2\n",
      "0.06042724284422415 represents class 3\n",
      "0.02320382004168861 represents class 3\n",
      "0.04358500831569041 represents class 3\n"
     ]
    }
   ],
   "source": [
    "label = []\n",
    "for i in pear:\n",
    "    if abs(i)>=.70:\n",
    "        for j in range(200):\n",
    "            label.append(\"Appliance_1\")\n",
    "            \n",
    "        print(f\"{abs(i)} represents class 0\")\n",
    "        \n",
    "    elif abs(i)<.70 and abs(i)>=.30:\n",
    "        for j in range(200):\n",
    "            label.append(\"Appliance_2\")\n",
    "            \n",
    "        print(f\"{abs(i)} represents class 1\")\n",
    "        \n",
    "    elif abs(i)<.30 and abs(i)>=.10:\n",
    "        for j in range(200):\n",
    "            label.append(\"Appliance_3\")\n",
    "\n",
    "        print(f\"{abs(i)} represents class 2\")\n",
    "        \n",
    "    else:\n",
    "        for j in range(200):\n",
    "            label.append(\"Appliance_4\")\n",
    "\n",
    "        print(f\"{abs(i)} represents class 3\")"
   ]
  },
  {
   "cell_type": "code",
   "execution_count": 26,
   "metadata": {
    "scrolled": true
   },
   "outputs": [
    {
     "data": {
      "text/plain": [
       "Appliance_4    17600\n",
       "Appliance_3     9600\n",
       "Appliance_2     1000\n",
       "Appliance_1      400\n",
       "dtype: int64"
      ]
     },
     "execution_count": 26,
     "metadata": {},
     "output_type": "execute_result"
    }
   ],
   "source": [
    "# No of applicance used in 10 days time interval\n",
    "pd.DataFrame(label).value_counts()"
   ]
  },
  {
   "cell_type": "code",
   "execution_count": 27,
   "metadata": {},
   "outputs": [
    {
     "data": {
      "text/html": [
       "<div>\n",
       "<style scoped>\n",
       "    .dataframe tbody tr th:only-of-type {\n",
       "        vertical-align: middle;\n",
       "    }\n",
       "\n",
       "    .dataframe tbody tr th {\n",
       "        vertical-align: top;\n",
       "    }\n",
       "\n",
       "    .dataframe thead th {\n",
       "        text-align: right;\n",
       "    }\n",
       "</style>\n",
       "<table border=\"1\" class=\"dataframe\">\n",
       "  <thead>\n",
       "    <tr style=\"text-align: right;\">\n",
       "      <th></th>\n",
       "      <th>label</th>\n",
       "    </tr>\n",
       "  </thead>\n",
       "  <tbody>\n",
       "    <tr>\n",
       "      <th>0</th>\n",
       "      <td>Appliance_1</td>\n",
       "    </tr>\n",
       "    <tr>\n",
       "      <th>1</th>\n",
       "      <td>Appliance_1</td>\n",
       "    </tr>\n",
       "    <tr>\n",
       "      <th>2</th>\n",
       "      <td>Appliance_1</td>\n",
       "    </tr>\n",
       "    <tr>\n",
       "      <th>3</th>\n",
       "      <td>Appliance_1</td>\n",
       "    </tr>\n",
       "    <tr>\n",
       "      <th>4</th>\n",
       "      <td>Appliance_1</td>\n",
       "    </tr>\n",
       "    <tr>\n",
       "      <th>...</th>\n",
       "      <td>...</td>\n",
       "    </tr>\n",
       "    <tr>\n",
       "      <th>28595</th>\n",
       "      <td>Appliance_4</td>\n",
       "    </tr>\n",
       "    <tr>\n",
       "      <th>28596</th>\n",
       "      <td>Appliance_4</td>\n",
       "    </tr>\n",
       "    <tr>\n",
       "      <th>28597</th>\n",
       "      <td>Appliance_4</td>\n",
       "    </tr>\n",
       "    <tr>\n",
       "      <th>28598</th>\n",
       "      <td>Appliance_4</td>\n",
       "    </tr>\n",
       "    <tr>\n",
       "      <th>28599</th>\n",
       "      <td>Appliance_4</td>\n",
       "    </tr>\n",
       "  </tbody>\n",
       "</table>\n",
       "<p>28600 rows × 1 columns</p>\n",
       "</div>"
      ],
      "text/plain": [
       "             label\n",
       "0      Appliance_1\n",
       "1      Appliance_1\n",
       "2      Appliance_1\n",
       "3      Appliance_1\n",
       "4      Appliance_1\n",
       "...            ...\n",
       "28595  Appliance_4\n",
       "28596  Appliance_4\n",
       "28597  Appliance_4\n",
       "28598  Appliance_4\n",
       "28599  Appliance_4\n",
       "\n",
       "[28600 rows x 1 columns]"
      ]
     },
     "execution_count": 27,
     "metadata": {},
     "output_type": "execute_result"
    }
   ],
   "source": [
    "# Create a data-frame of labels list\n",
    "df2 = pd.DataFrame(label,columns=['label'])\n",
    "df2"
   ]
  },
  {
   "cell_type": "code",
   "execution_count": 28,
   "metadata": {},
   "outputs": [],
   "source": [
    "# Concat label data frame and with features data frame\n",
    "list =[df1,df2]\n",
    "df3 = pd.concat(list,axis=1).head(28600)"
   ]
  },
  {
   "cell_type": "code",
   "execution_count": 29,
   "metadata": {},
   "outputs": [
    {
     "data": {
      "text/html": [
       "<div>\n",
       "<style scoped>\n",
       "    .dataframe tbody tr th:only-of-type {\n",
       "        vertical-align: middle;\n",
       "    }\n",
       "\n",
       "    .dataframe tbody tr th {\n",
       "        vertical-align: top;\n",
       "    }\n",
       "\n",
       "    .dataframe thead th {\n",
       "        text-align: right;\n",
       "    }\n",
       "</style>\n",
       "<table border=\"1\" class=\"dataframe\">\n",
       "  <thead>\n",
       "    <tr style=\"text-align: right;\">\n",
       "      <th></th>\n",
       "      <th>r_phase_current</th>\n",
       "      <th>timestamp</th>\n",
       "      <th>total_active_power</th>\n",
       "      <th>label</th>\n",
       "    </tr>\n",
       "  </thead>\n",
       "  <tbody>\n",
       "    <tr>\n",
       "      <th>0</th>\n",
       "      <td>0.580</td>\n",
       "      <td>01-10-2018 00:00</td>\n",
       "      <td>3066.280</td>\n",
       "      <td>Appliance_1</td>\n",
       "    </tr>\n",
       "    <tr>\n",
       "      <th>1</th>\n",
       "      <td>0.580</td>\n",
       "      <td>01-10-2018 00:00</td>\n",
       "      <td>3075.120</td>\n",
       "      <td>Appliance_1</td>\n",
       "    </tr>\n",
       "    <tr>\n",
       "      <th>2</th>\n",
       "      <td>6.731</td>\n",
       "      <td>01-10-2018 00:01</td>\n",
       "      <td>4608.200</td>\n",
       "      <td>Appliance_1</td>\n",
       "    </tr>\n",
       "    <tr>\n",
       "      <th>3</th>\n",
       "      <td>7.251</td>\n",
       "      <td>01-10-2018 00:01</td>\n",
       "      <td>4766.260</td>\n",
       "      <td>Appliance_1</td>\n",
       "    </tr>\n",
       "    <tr>\n",
       "      <th>4</th>\n",
       "      <td>7.173</td>\n",
       "      <td>01-10-2018 00:02</td>\n",
       "      <td>4745.280</td>\n",
       "      <td>Appliance_1</td>\n",
       "    </tr>\n",
       "    <tr>\n",
       "      <th>...</th>\n",
       "      <td>...</td>\n",
       "      <td>...</td>\n",
       "      <td>...</td>\n",
       "      <td>...</td>\n",
       "    </tr>\n",
       "    <tr>\n",
       "      <th>28595</th>\n",
       "      <td>0.883</td>\n",
       "      <td>10-10-2018 23:43</td>\n",
       "      <td>486.931</td>\n",
       "      <td>Appliance_4</td>\n",
       "    </tr>\n",
       "    <tr>\n",
       "      <th>28596</th>\n",
       "      <td>0.883</td>\n",
       "      <td>10-10-2018 23:43</td>\n",
       "      <td>486.797</td>\n",
       "      <td>Appliance_4</td>\n",
       "    </tr>\n",
       "    <tr>\n",
       "      <th>28597</th>\n",
       "      <td>0.880</td>\n",
       "      <td>10-10-2018 23:44</td>\n",
       "      <td>486.263</td>\n",
       "      <td>Appliance_4</td>\n",
       "    </tr>\n",
       "    <tr>\n",
       "      <th>28598</th>\n",
       "      <td>0.883</td>\n",
       "      <td>10-10-2018 23:44</td>\n",
       "      <td>486.397</td>\n",
       "      <td>Appliance_4</td>\n",
       "    </tr>\n",
       "    <tr>\n",
       "      <th>28599</th>\n",
       "      <td>0.883</td>\n",
       "      <td>10-10-2018 23:45</td>\n",
       "      <td>486.130</td>\n",
       "      <td>Appliance_4</td>\n",
       "    </tr>\n",
       "  </tbody>\n",
       "</table>\n",
       "<p>28600 rows × 4 columns</p>\n",
       "</div>"
      ],
      "text/plain": [
       "       r_phase_current         timestamp  total_active_power        label\n",
       "0                0.580  01-10-2018 00:00            3066.280  Appliance_1\n",
       "1                0.580  01-10-2018 00:00            3075.120  Appliance_1\n",
       "2                6.731  01-10-2018 00:01            4608.200  Appliance_1\n",
       "3                7.251  01-10-2018 00:01            4766.260  Appliance_1\n",
       "4                7.173  01-10-2018 00:02            4745.280  Appliance_1\n",
       "...                ...               ...                 ...          ...\n",
       "28595            0.883  10-10-2018 23:43             486.931  Appliance_4\n",
       "28596            0.883  10-10-2018 23:43             486.797  Appliance_4\n",
       "28597            0.880  10-10-2018 23:44             486.263  Appliance_4\n",
       "28598            0.883  10-10-2018 23:44             486.397  Appliance_4\n",
       "28599            0.883  10-10-2018 23:45             486.130  Appliance_4\n",
       "\n",
       "[28600 rows x 4 columns]"
      ]
     },
     "execution_count": 29,
     "metadata": {},
     "output_type": "execute_result"
    }
   ],
   "source": [
    "df3"
   ]
  },
  {
   "cell_type": "code",
   "execution_count": 30,
   "metadata": {},
   "outputs": [
    {
     "data": {
      "text/plain": [
       "0        01-10-2018 00:00\n",
       "1        01-10-2018 00:00\n",
       "2        01-10-2018 00:01\n",
       "3        01-10-2018 00:01\n",
       "4        01-10-2018 00:02\n",
       "               ...       \n",
       "28595    10-10-2018 23:43\n",
       "28596    10-10-2018 23:43\n",
       "28597    10-10-2018 23:44\n",
       "28598    10-10-2018 23:44\n",
       "28599    10-10-2018 23:45\n",
       "Name: timestamp, Length: 28600, dtype: object"
      ]
     },
     "execution_count": 30,
     "metadata": {},
     "output_type": "execute_result"
    }
   ],
   "source": [
    "df3['timestamp']"
   ]
  },
  {
   "cell_type": "code",
   "execution_count": 31,
   "metadata": {
    "scrolled": true
   },
   "outputs": [
    {
     "data": {
      "text/plain": [
       "<AxesSubplot:>"
      ]
     },
     "execution_count": 31,
     "metadata": {},
     "output_type": "execute_result"
    },
    {
     "data": {
      "image/png": "[encoded data removed]",
      "text/plain": [
       "<Figure size 432x288 with 1 Axes>"
      ]
     },
     "metadata": {
      "needs_background": "light"
     },
     "output_type": "display_data"
    }
   ],
   "source": [
    "# Histogram of appliance ( for 10 days)\n",
    "df3['label'].hist(legend= True)\n"
   ]
  },
  {
   "cell_type": "code",
   "execution_count": 32,
   "metadata": {},
   "outputs": [
    {
     "data": {
      "text/plain": [
       "120    01-10-2018 01:00\n",
       "121    01-10-2018 01:00\n",
       "122    01-10-2018 01:01\n",
       "123    01-10-2018 01:01\n",
       "124    01-10-2018 01:02\n",
       "             ...       \n",
       "235    01-10-2018 01:57\n",
       "236    01-10-2018 01:58\n",
       "237    01-10-2018 01:58\n",
       "238    01-10-2018 01:59\n",
       "239    01-10-2018 01:59\n",
       "Name: timestamp, Length: 120, dtype: object"
      ]
     },
     "execution_count": 32,
     "metadata": {},
     "output_type": "execute_result"
    }
   ],
   "source": [
    "# We observe 120 rows are representing a 1 hour window\n",
    "df3['timestamp'][120:240]"
   ]
  },
  {
   "cell_type": "code",
   "execution_count": 33,
   "metadata": {
    "scrolled": true
   },
   "outputs": [
    {
     "data": {
      "text/plain": [
       "<AxesSubplot:>"
      ]
     },
     "execution_count": 33,
     "metadata": {},
     "output_type": "execute_result"
    },
    {
     "data": {
      "image/png": "[encoded data removed]",
      "text/plain": [
       "<Figure size 432x288 with 1 Axes>"
      ]
     },
     "metadata": {
      "needs_background": "light"
     },
     "output_type": "display_data"
    }
   ],
   "source": [
    "# In first one hour from the time begining \n",
    "df3['label'][:120].hist()\n",
    "    "
   ]
  },
  {
   "cell_type": "code",
   "execution_count": 34,
   "metadata": {},
   "outputs": [
    {
     "data": {
      "text/plain": [
       "<AxesSubplot:>"
      ]
     },
     "execution_count": 34,
     "metadata": {},
     "output_type": "execute_result"
    },
    {
     "data": {
      "image/png": "[encoded data removed]",
      "text/plain": [
       "<Figure size 432x288 with 1 Axes>"
      ]
     },
     "metadata": {
      "needs_background": "light"
     },
     "output_type": "display_data"
    }
   ],
   "source": [
    "# Apliance used \n",
    "df3['label'][:240].hist() # first two hours 2 appliance are used"
   ]
  },
  {
   "cell_type": "code",
   "execution_count": 35,
   "metadata": {},
   "outputs": [
    {
     "data": {
      "text/plain": [
       "<AxesSubplot:>"
      ]
     },
     "execution_count": 35,
     "metadata": {},
     "output_type": "execute_result"
    },
    {
     "data": {
      "image/png": "[encoded data removed]",
      "text/plain": [
       "<Figure size 432x288 with 1 Axes>"
      ]
     },
     "metadata": {
      "needs_background": "light"
     },
     "output_type": "display_data"
    }
   ],
   "source": [
    "df3['label'][:360].hist() # In first three hours 2 appliance are used"
   ]
  },
  {
   "cell_type": "code",
   "execution_count": 36,
   "metadata": {},
   "outputs": [
    {
     "data": {
      "text/plain": [
       "<AxesSubplot:>"
      ]
     },
     "execution_count": 36,
     "metadata": {},
     "output_type": "execute_result"
    },
    {
     "data": {
      "image/png": "[encoded data removed]",
      "text/plain": [
       "<Figure size 432x288 with 1 Axes>"
      ]
     },
     "metadata": {
      "needs_background": "light"
     },
     "output_type": "display_data"
    }
   ],
   "source": [
    "df3['label'][:480].hist()   # In first 4 hours 3 appliance are used "
   ]
  },
  {
   "cell_type": "code",
   "execution_count": 37,
   "metadata": {},
   "outputs": [
    {
     "data": {
      "text/plain": [
       "0       01-10-2018 00:00\n",
       "1       01-10-2018 00:00\n",
       "2       01-10-2018 00:01\n",
       "3       01-10-2018 00:01\n",
       "4       01-10-2018 00:02\n",
       "              ...       \n",
       "7995    03-10-2018 18:43\n",
       "7996    03-10-2018 18:44\n",
       "7997    03-10-2018 18:44\n",
       "7998    03-10-2018 18:45\n",
       "7999    03-10-2018 18:45\n",
       "Name: timestamp, Length: 8000, dtype: object"
      ]
     },
     "execution_count": 37,
     "metadata": {},
     "output_type": "execute_result"
    }
   ],
   "source": [
    "df3['timestamp'][:8000]"
   ]
  },
  {
   "cell_type": "code",
   "execution_count": 38,
   "metadata": {},
   "outputs": [
    {
     "data": {
      "text/plain": [
       "0       01-10-2018 00:00\n",
       "1       01-10-2018 00:00\n",
       "2       01-10-2018 00:01\n",
       "3       01-10-2018 00:01\n",
       "4       01-10-2018 00:02\n",
       "              ...       \n",
       "2873    01-10-2018 23:57\n",
       "2874    01-10-2018 23:58\n",
       "2875    01-10-2018 23:58\n",
       "2876    01-10-2018 23:59\n",
       "2877    01-10-2018 23:59\n",
       "Name: timestamp, Length: 2878, dtype: object"
      ]
     },
     "execution_count": 38,
     "metadata": {},
     "output_type": "execute_result"
    }
   ],
   "source": [
    "# 2878 rows represents one day \n",
    "df3['timestamp'][:2878]"
   ]
  },
  {
   "cell_type": "markdown",
   "metadata": {},
   "source": []
  },
  {
   "cell_type": "markdown",
   "metadata": {},
   "source": [
    "#### first  day all appliances is used"
   ]
  },
  {
   "cell_type": "code",
   "execution_count": 40,
   "metadata": {
    "scrolled": true
   },
   "outputs": [
    {
     "data": {
      "image/png": "[encoded data removed]",
      "text/plain": [
       "<Figure size 432x288 with 1 Axes>"
      ]
     },
     "metadata": {
      "needs_background": "light"
     },
     "output_type": "display_data"
    }
   ],
   "source": [
    "# Day one appiances used\n",
    "df3['label'][:2878].hist()\n",
    "plt.tight_layout()\n",
    "plt.show()"
   ]
  },
  {
   "cell_type": "markdown",
   "metadata": {},
   "source": [
    "#### Observation & Results:\n",
    "- Based on pearson correlation and with 200 window size I obeserved 4 appliances patterns.\n",
    "- 120 rows or time window represent One hour time interval.\n",
    "- 2878 rows or time window represent One day time interval"
   ]
  }
 ],
 "metadata": {
  "kernelspec": {
   "display_name": "Python 3",
   "language": "python",
   "name": "python3"
  },
  "language_info": {
   "codemirror_mode": {
    "name": "ipython",
    "version": 3
   },
   "file_extension": ".py",
   "mimetype": "text/x-python",
   "name": "python",
   "nbconvert_exporter": "python",
   "pygments_lexer": "ipython3",
   "version": "3.8.5"
  }
 },
 "nbformat": 4,
 "nbformat_minor": 4
}
